{
  "nbformat": 4,
  "nbformat_minor": 0,
  "metadata": {
    "colab": {
      "provenance": [],
      "authorship_tag": "ABX9TyO6UXsmlTmDPCju33LHVNdY",
      "include_colab_link": true
    },
    "kernelspec": {
      "name": "python3",
      "display_name": "Python 3"
    },
    "language_info": {
      "name": "python"
    }
  },
  "cells": [
    {
      "cell_type": "markdown",
      "metadata": {
        "id": "view-in-github",
        "colab_type": "text"
      },
      "source": [
        "<a href=\"https://colab.research.google.com/github/nnh92/Ex26/blob/main/Ex26.ipynb\" target=\"_parent\"><img src=\"https://colab.research.google.com/assets/colab-badge.svg\" alt=\"Open In Colab\"/></a>"
      ]
    },
    {
      "cell_type": "code",
      "execution_count": 3,
      "metadata": {
        "colab": {
          "base_uri": "https://localhost:8080/"
        },
        "id": "RVK3I216tHXF",
        "outputId": "fbf776b0-778a-4146-cf39-08644c6ea6a5"
      },
      "outputs": [
        {
          "output_type": "stream",
          "name": "stdout",
          "text": [
            "Nhap 2 so: 2 7\n",
            "Tong can tinh:  20\n"
          ]
        }
      ],
      "source": [
        "a, b = map(int, input('Nhap 2 so: ').split())\n",
        "\n",
        "s = 0\n",
        "\n",
        "for i in range(a, b + 1):\n",
        "  s += i\n",
        "\n",
        "print('Tong can tinh: ', s)\n"
      ]
    }
  ]
}